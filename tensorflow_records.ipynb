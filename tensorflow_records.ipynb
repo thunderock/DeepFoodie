{
 "cells": [
  {
   "cell_type": "code",
   "execution_count": 1,
   "id": "prospective-minority",
   "metadata": {},
   "outputs": [],
   "source": [
    "import pandas as pd\n",
    "import numpy as np\n",
    "from sklearn.model_selection import train_test_split\n",
    "from scipy import stats\n",
    "import random\n",
    "import os\n",
    "import tensorflow as tf\n",
    "import math\n",
    "import cv2\n",
    "from matplotlib import pyplot as plt\n",
    "%matplotlib inline\n",
    "import seaborn as sns\n",
    "import pickle"
   ]
  },
  {
   "cell_type": "code",
   "execution_count": 2,
   "id": "enormous-flash",
   "metadata": {},
   "outputs": [],
   "source": [
    "SIZE = 500\n",
    "\n",
    "seed = 505\n",
    "img_size = 256\n",
    "img_path = 'kaggle_dataset/dataset_1_images/dataset_1_images/Food Images/'\n"
   ]
  },
  {
   "cell_type": "code",
   "execution_count": 3,
   "id": "behind-orange",
   "metadata": {},
   "outputs": [],
   "source": [
    "def seed_everything(seed):\n",
    "    random.seed(seed)\n",
    "    np.random.seed(seed)\n",
    "    os.environ['PYTHONHASHSEED'] = str(seed)\n",
    "    tf.random.set_seed(seed)\n",
    "    "
   ]
  },
  {
   "cell_type": "code",
   "execution_count": 4,
   "id": "amber-native",
   "metadata": {},
   "outputs": [],
   "source": [
    "def image_mapping_check(dataset):\n",
    "    counter = 0\n",
    "    record = []\n",
    "    while counter < dataset.shape[0]-1:\n",
    "        row = dataset.loc[counter]\n",
    "        img_name = row['Image_Name']\n",
    "        img = cv2.imread(img_path+img_name+'.jpg')\n",
    "        try:\n",
    "            img = cv2.cvtColor(img, cv2.COLOR_RGB2BGR) \n",
    "        except:\n",
    "            record.append(counter)\n",
    "        counter += 1\n",
    "    new = dataset.drop(record, axis = 0)\n",
    "    new = new.reset_index(drop = True)\n",
    "    return new"
   ]
  },
  {
   "cell_type": "code",
   "execution_count": 5,
   "id": "ordinary-treasury",
   "metadata": {},
   "outputs": [],
   "source": [
    "path = ['kaggle_dataset/cleaned_dataset_1.csv', 'kaggle_dataset/ingredients_modified.csv']\n",
    "df = [pd.read_csv(path[0]), pd.read_csv(path[1])]\n",
    "df[0]['cleaned'] = df[1]['cleaned']\n",
    "df[0]['Instructions'] = df[1]['Instructions']\n",
    "df[0]['Title'] = df[1]['Title']\n",
    "df = df[0]\n",
    "df = df[df.Title.notna()]"
   ]
  },
  {
   "cell_type": "code",
   "execution_count": 6,
   "id": "chinese-water",
   "metadata": {},
   "outputs": [],
   "source": [
    "df = image_mapping_check(df)"
   ]
  },
  {
   "cell_type": "code",
   "execution_count": 7,
   "id": "painted-bicycle",
   "metadata": {},
   "outputs": [
    {
     "data": {
      "text/plain": [
       "Title                  0\n",
       "Instructions           0\n",
       "Image_Name             0\n",
       "Cleaned_Ingredients    0\n",
       "dataset                0\n",
       "id                     0\n",
       "cleaned                0\n",
       "dtype: int64"
      ]
     },
     "execution_count": 7,
     "metadata": {},
     "output_type": "execute_result"
    }
   ],
   "source": [
    "df.isnull().sum()"
   ]
  },
  {
   "cell_type": "code",
   "execution_count": 8,
   "id": "sufficient-front",
   "metadata": {},
   "outputs": [
    {
     "data": {
      "text/html": [
       "<div>\n",
       "<style scoped>\n",
       "    .dataframe tbody tr th:only-of-type {\n",
       "        vertical-align: middle;\n",
       "    }\n",
       "\n",
       "    .dataframe tbody tr th {\n",
       "        vertical-align: top;\n",
       "    }\n",
       "\n",
       "    .dataframe thead th {\n",
       "        text-align: right;\n",
       "    }\n",
       "</style>\n",
       "<table border=\"1\" class=\"dataframe\">\n",
       "  <thead>\n",
       "    <tr style=\"text-align: right;\">\n",
       "      <th></th>\n",
       "      <th>Title</th>\n",
       "      <th>Instructions</th>\n",
       "      <th>Image_Name</th>\n",
       "      <th>Cleaned_Ingredients</th>\n",
       "      <th>dataset</th>\n",
       "      <th>id</th>\n",
       "      <th>cleaned</th>\n",
       "    </tr>\n",
       "  </thead>\n",
       "  <tbody>\n",
       "  </tbody>\n",
       "</table>\n",
       "</div>"
      ],
      "text/plain": [
       "Empty DataFrame\n",
       "Columns: [Title, Instructions, Image_Name, Cleaned_Ingredients, dataset, id, cleaned]\n",
       "Index: []"
      ]
     },
     "execution_count": 8,
     "metadata": {},
     "output_type": "execute_result"
    }
   ],
   "source": [
    "df[df['cleaned'].isna()]"
   ]
  },
  {
   "cell_type": "code",
   "execution_count": 9,
   "id": "looking-simon",
   "metadata": {},
   "outputs": [
    {
     "data": {
      "text/html": [
       "<div>\n",
       "<style scoped>\n",
       "    .dataframe tbody tr th:only-of-type {\n",
       "        vertical-align: middle;\n",
       "    }\n",
       "\n",
       "    .dataframe tbody tr th {\n",
       "        vertical-align: top;\n",
       "    }\n",
       "\n",
       "    .dataframe thead th {\n",
       "        text-align: right;\n",
       "    }\n",
       "</style>\n",
       "<table border=\"1\" class=\"dataframe\">\n",
       "  <thead>\n",
       "    <tr style=\"text-align: right;\">\n",
       "      <th></th>\n",
       "      <th>Title</th>\n",
       "      <th>Instructions</th>\n",
       "      <th>Image_Name</th>\n",
       "      <th>Cleaned_Ingredients</th>\n",
       "      <th>dataset</th>\n",
       "      <th>id</th>\n",
       "      <th>cleaned</th>\n",
       "    </tr>\n",
       "  </thead>\n",
       "  <tbody>\n",
       "  </tbody>\n",
       "</table>\n",
       "</div>"
      ],
      "text/plain": [
       "Empty DataFrame\n",
       "Columns: [Title, Instructions, Image_Name, Cleaned_Ingredients, dataset, id, cleaned]\n",
       "Index: []"
      ]
     },
     "execution_count": 9,
     "metadata": {},
     "output_type": "execute_result"
    }
   ],
   "source": [
    "df[df.cleaned.str.len() == 1]"
   ]
  },
  {
   "cell_type": "code",
   "execution_count": 10,
   "id": "spare-coaching",
   "metadata": {},
   "outputs": [
    {
     "data": {
      "text/plain": [
       "(6403, 1)"
      ]
     },
     "execution_count": 10,
     "metadata": {},
     "output_type": "execute_result"
    }
   ],
   "source": [
    "count_set = {}\n",
    "count_length = {}\n",
    "words_to_index = {\"PAD\": 0}\n",
    "index_to_words = [\"PAD\"]\n",
    "def get_masked_tokens(ings):\n",
    "    all_ings = ings.str.split(',')\n",
    "    \n",
    "    for i in all_ings:\n",
    "        for j in i:\n",
    "            if j not in count_set:\n",
    "                count_set[j] = 0\n",
    "            count_set[j] += 1\n",
    "    for i in all_ings:\n",
    "        l = len(i)\n",
    "        if l not in count_length:\n",
    "            count_length[l] = 0\n",
    "        count_length[l] += 1\n",
    "    \n",
    "    for i in all_ings:\n",
    "        for j in i:\n",
    "            if j not in words_to_index:\n",
    "                index_to_words.append(j)\n",
    "                words_to_index[j] = len(index_to_words) - 1\n",
    "get_masked_tokens(df.cleaned)\n",
    "pickle.dump(index_to_words, open(\"kaggle_dataset/index_to_words.pkl\", 'wb'))\n",
    "\n",
    "pickle.dump(words_to_index, open(\"kaggle_dataset/words_to_index.pkl\", 'wb'))\n",
    "max(count_set.values()), min(count_set.values())"
   ]
  },
  {
   "cell_type": "code",
   "execution_count": 11,
   "id": "transsexual-adult",
   "metadata": {},
   "outputs": [
    {
     "data": {
      "text/plain": [
       "47"
      ]
     },
     "execution_count": 11,
     "metadata": {},
     "output_type": "execute_result"
    }
   ],
   "source": [
    "max(count_length.keys())"
   ]
  },
  {
   "cell_type": "code",
   "execution_count": 12,
   "id": "molecular-request",
   "metadata": {},
   "outputs": [
    {
     "data": {
      "text/plain": [
       "<AxesSubplot:>"
      ]
     },
     "execution_count": 12,
     "metadata": {},
     "output_type": "execute_result"
    },
    {
     "data": {
      "image/png": "[encoded data removed]",
      "text/plain": [
       "<Figure size 432x288 with 1 Axes>"
      ]
     },
     "metadata": {
      "needs_background": "light"
     },
     "output_type": "display_data"
    }
   ],
   "source": [
    "sns.distplot(list(count_set.values()))"
   ]
  },
  {
   "cell_type": "code",
   "execution_count": 13,
   "id": "brilliant-washington",
   "metadata": {},
   "outputs": [
    {
     "data": {
      "text/plain": [
       "[<matplotlib.lines.Line2D at 0x7f5e9c7a7e50>]"
      ]
     },
     "execution_count": 13,
     "metadata": {},
     "output_type": "execute_result"
    },
    {
     "data": {
      "image/png": "[encoded data removed]",
      "text/plain": [
       "<Figure size 432x288 with 1 Axes>"
      ]
     },
     "metadata": {
      "needs_background": "light"
     },
     "output_type": "display_data"
    }
   ],
   "source": [
    "plt.plot(list(count_set.values()))"
   ]
  },
  {
   "cell_type": "code",
   "execution_count": 14,
   "id": "lyric-spain",
   "metadata": {},
   "outputs": [
    {
     "data": {
      "text/plain": [
       "[<matplotlib.lines.Line2D at 0x7f5e9c809810>]"
      ]
     },
     "execution_count": 14,
     "metadata": {},
     "output_type": "execute_result"
    },
    {
     "data": {
      "image/png": "[encoded data removed]",
      "text/plain": [
       "<Figure size 432x288 with 1 Axes>"
      ]
     },
     "metadata": {
      "needs_background": "light"
     },
     "output_type": "display_data"
    }
   ],
   "source": [
    "plt.plot(list(count_length.keys()))"
   ]
  },
  {
   "cell_type": "code",
   "execution_count": 15,
   "id": "anticipated-relevance",
   "metadata": {},
   "outputs": [
    {
     "data": {
      "text/plain": [
       "<AxesSubplot:>"
      ]
     },
     "execution_count": 15,
     "metadata": {},
     "output_type": "execute_result"
    },
    {
     "data": {
      "image/png": "[encoded data removed]",
      "text/plain": [
       "<Figure size 432x288 with 1 Axes>"
      ]
     },
     "metadata": {
      "needs_background": "light"
     },
     "output_type": "display_data"
    }
   ],
   "source": [
    "sns.distplot(list(count_length.keys()))"
   ]
  },
  {
   "cell_type": "code",
   "execution_count": 16,
   "id": "following-organizer",
   "metadata": {},
   "outputs": [],
   "source": [
    "MAX_LABEL_LEN = 35"
   ]
  },
  {
   "cell_type": "code",
   "execution_count": 17,
   "id": "narrow-brazil",
   "metadata": {},
   "outputs": [],
   "source": [
    "def get_dataset(df):\n",
    "    \n",
    "    x_train, x_val, y_train, y_val = train_test_split(df.loc[:, df.columns != 'cleaned'], df['cleaned'], shuffle = True, random_state = seed, test_size = 0.25)\n",
    "    train_df = pd.concat([x_train, y_train], axis = 1).reset_index(drop = True)\n",
    "    val_df = pd.concat([x_val, y_val], axis = 1).reset_index(drop = True)\n",
    "    return df, train_df, val_df"
   ]
  },
  {
   "cell_type": "code",
   "execution_count": 18,
   "id": "talented-alcohol",
   "metadata": {},
   "outputs": [],
   "source": [
    "def _bytes_feature(value):\n",
    "    if isinstance(value, type(tf.constant(0))):\n",
    "        \n",
    "        value = value.numpy() # BytesList won't unpack a string from an EagerTensor.\n",
    "    \n",
    "    if type(value) == str:\n",
    "        \n",
    "        return tf.train.Feature(bytes_list=tf.train.BytesList(value=[str.encode(value)]))\n",
    "    return tf.train.Feature(bytes_list=tf.train.BytesList(value=[value]))\n",
    "\n",
    "def get_label(ing):\n",
    "    all_ings = ing.split(',')\n",
    "    ret = [0] * MAX_LABEL_LEN\n",
    "    for idx, i in enumerate(all_ings):\n",
    "        if idx < MAX_LABEL_LEN:\n",
    "            ret[idx] = words_to_index[i]\n",
    "    return _int64_feature(ret)\n",
    "\n",
    "def _int64_feature(value):\n",
    "    # value is a list of integers\n",
    "    return tf.train.Feature(int64_list=tf.train.Int64List(value=value))\n",
    "\n",
    "def serialize_example(img_name, img, cleaned, orig_ingredients, title, instructions):\n",
    "    feature = {\n",
    "        'image_name': _bytes_feature(img_name),\n",
    "        'image': _bytes_feature(img),\n",
    "        'cleaned_ingredients': get_label(cleaned),\n",
    "        'orig_ingredients': _bytes_feature(orig_ingredients),\n",
    "        'title': _bytes_feature(title),\n",
    "        'instructions': _bytes_feature(instructions)\n",
    "        \n",
    "    }\n",
    "    example_proto = tf.train.Example(features=tf.train.Features(feature=feature))\n",
    "    return example_proto.SerializeToString()"
   ]
  },
  {
   "cell_type": "code",
   "execution_count": 19,
   "id": "honey-original",
   "metadata": {},
   "outputs": [],
   "source": [
    "def create_recored(dataset, title):\n",
    "    CT = dataset.shape[0]//SIZE + int(dataset.shape[0]%SIZE!=0)\n",
    "    for j in range(CT):\n",
    "        print(); print('Writing TFRecord %i of %i...'%(j,CT))\n",
    "        CT2 = min(SIZE,dataset.shape[0]-j*SIZE)\n",
    "        if title == \"train\":\n",
    "            with tf.io.TFRecordWriter('tfrecs/train%.4i-%.2i-%i.tfrec'%(seed,j,CT2)) as writer:\n",
    "                for k in range(CT2):\n",
    "                    counter = j*SIZE+k\n",
    "                    row = dataset.loc[counter]\n",
    "                    img_name = row['Image_Name']\n",
    "                    img = cv2.imread(img_path+img_name+'.jpg')\n",
    "                    img = cv2.cvtColor(img, cv2.COLOR_RGB2BGR) # Fix incorrect colors\n",
    "                    img = cv2.resize(img,(img_size,img_size),interpolation = cv2.INTER_AREA)\n",
    "                    img = cv2.imencode('.jpg', img, (cv2.IMWRITE_JPEG_QUALITY, 94))[1].tostring()\n",
    "                    example = serialize_example(\n",
    "                        str.encode(img_name),\n",
    "                        img,\n",
    "                        row['cleaned'],\n",
    "                        row['Cleaned_Ingredients'],\n",
    "                        row['Title'],\n",
    "                        row['Instructions']\n",
    "                    )\n",
    "                    writer.write(example)\n",
    "                    if k%100==0: print(k,', ',end='')\n",
    "        else:\n",
    "             with tf.io.TFRecordWriter('tfrecs/val%.4i-%.2i-%i.tfrec'%(seed,j,CT2)) as writer:\n",
    "                for k in range(CT2):\n",
    "                    counter = j*SIZE+k\n",
    "                    img_name = dataset.Image_Name[counter]\n",
    "                    img = cv2.imread(img_path+img_name+'.jpg')\n",
    "                    img = cv2.cvtColor(img, cv2.COLOR_RGB2BGR) # Fix incorrect colors\n",
    "                    img = cv2.resize(img,(img_size,img_size),interpolation = cv2.INTER_AREA)\n",
    "                    img = cv2.imencode('.jpg', img, (cv2.IMWRITE_JPEG_QUALITY, 94))[1].tostring()\n",
    "                    row = dataset.loc[counter]\n",
    "                    example = serialize_example(\n",
    "                        str.encode(img_name),\n",
    "                        img,\n",
    "                        row['cleaned'],\n",
    "                        row['Cleaned_Ingredients'],\n",
    "                        row['Title'],\n",
    "                        row['Instructions']\n",
    "                    )\n",
    "                    writer.write(example)\n",
    "                    if k%100==0: print(k,', ',end='')"
   ]
  },
  {
   "cell_type": "code",
   "execution_count": 20,
   "id": "sexual-tooth",
   "metadata": {},
   "outputs": [],
   "source": [
    "def get_record(df, seed):\n",
    "    seed_everything(seed)\n",
    "    df, train_df, val_df = get_dataset(df)\n",
    "    # save df\n",
    "    df.to_csv('food_ingredients_dataset.csv', index = False)\n",
    "    create_recored(train_df,title = \"train\")\n",
    "    create_recored(val_df, title = \"val\")"
   ]
  },
  {
   "cell_type": "code",
   "execution_count": 21,
   "id": "authorized-latter",
   "metadata": {},
   "outputs": [
    {
     "name": "stdout",
     "output_type": "stream",
     "text": [
      "\n",
      "Writing TFRecord 0 of 21...\n",
      "0 , "
     ]
    },
    {
     "name": "stderr",
     "output_type": "stream",
     "text": [
      "/home/ashutosh/miniconda3/lib/python3.7/site-packages/ipykernel_launcher.py:15: DeprecationWarning: tostring() is deprecated. Use tobytes() instead.\n",
      "  from ipykernel import kernelapp as app\n"
     ]
    },
    {
     "name": "stdout",
     "output_type": "stream",
     "text": [
      "100 , 200 , 300 , 400 , \n",
      "Writing TFRecord 1 of 21...\n",
      "0 , 100 , 200 , 300 , 400 , \n",
      "Writing TFRecord 2 of 21...\n",
      "0 , 100 , 200 , 300 , 400 , \n",
      "Writing TFRecord 3 of 21...\n",
      "0 , 100 , 200 , 300 , 400 , \n",
      "Writing TFRecord 4 of 21...\n",
      "0 , 100 , 200 , 300 , 400 , \n",
      "Writing TFRecord 5 of 21...\n",
      "0 , 100 , 200 , 300 , 400 , \n",
      "Writing TFRecord 6 of 21...\n",
      "0 , 100 , 200 , 300 , 400 , \n",
      "Writing TFRecord 7 of 21...\n",
      "0 , 100 , 200 , 300 , 400 , \n",
      "Writing TFRecord 8 of 21...\n",
      "0 , 100 , 200 , 300 , 400 , \n",
      "Writing TFRecord 9 of 21...\n",
      "0 , 100 , 200 , 300 , 400 , \n",
      "Writing TFRecord 10 of 21...\n",
      "0 , 100 , 200 , 300 , 400 , \n",
      "Writing TFRecord 11 of 21...\n",
      "0 , 100 , 200 , 300 , 400 , \n",
      "Writing TFRecord 12 of 21...\n",
      "0 , 100 , 200 , 300 , 400 , \n",
      "Writing TFRecord 13 of 21...\n",
      "0 , 100 , 200 , 300 , 400 , \n",
      "Writing TFRecord 14 of 21...\n",
      "0 , 100 , 200 , 300 , 400 , \n",
      "Writing TFRecord 15 of 21...\n",
      "0 , 100 , 200 , 300 , 400 , \n",
      "Writing TFRecord 16 of 21...\n",
      "0 , 100 , 200 , 300 , 400 , \n",
      "Writing TFRecord 17 of 21...\n",
      "0 , 100 , 200 , 300 , 400 , \n",
      "Writing TFRecord 18 of 21...\n",
      "0 , 100 , 200 , 300 , 400 , \n",
      "Writing TFRecord 19 of 21...\n",
      "0 , 100 , 200 , 300 , 400 , \n",
      "Writing TFRecord 20 of 21...\n",
      "0 , \n",
      "Writing TFRecord 0 of 7...\n",
      "0 , "
     ]
    },
    {
     "name": "stderr",
     "output_type": "stream",
     "text": [
      "/home/ashutosh/miniconda3/lib/python3.7/site-packages/ipykernel_launcher.py:34: DeprecationWarning: tostring() is deprecated. Use tobytes() instead.\n"
     ]
    },
    {
     "name": "stdout",
     "output_type": "stream",
     "text": [
      "100 , 200 , 300 , 400 , \n",
      "Writing TFRecord 1 of 7...\n",
      "0 , 100 , 200 , 300 , 400 , \n",
      "Writing TFRecord 2 of 7...\n",
      "0 , 100 , 200 , 300 , 400 , \n",
      "Writing TFRecord 3 of 7...\n",
      "0 , 100 , 200 , 300 , 400 , \n",
      "Writing TFRecord 4 of 7...\n",
      "0 , 100 , 200 , 300 , 400 , \n",
      "Writing TFRecord 5 of 7...\n",
      "0 , 100 , 200 , 300 , 400 , \n",
      "Writing TFRecord 6 of 7...\n",
      "0 , 100 , 200 , 300 , "
     ]
    }
   ],
   "source": [
    "get_record(df, seed)"
   ]
  },
  {
   "cell_type": "code",
   "execution_count": 22,
   "id": "large-folder",
   "metadata": {},
   "outputs": [
    {
     "data": {
      "text/plain": [
       "Title                  0\n",
       "Instructions           0\n",
       "Image_Name             0\n",
       "Cleaned_Ingredients    0\n",
       "dataset                0\n",
       "id                     0\n",
       "cleaned                0\n",
       "dtype: int64"
      ]
     },
     "execution_count": 22,
     "metadata": {},
     "output_type": "execute_result"
    }
   ],
   "source": [
    "df.isna().sum()"
   ]
  },
  {
   "cell_type": "code",
   "execution_count": null,
   "id": "qualified-arkansas",
   "metadata": {},
   "outputs": [],
   "source": []
  }
 ],
 "metadata": {
  "kernelspec": {
   "display_name": "Python 3",
   "language": "python",
   "name": "python3"
  },
  "language_info": {
   "codemirror_mode": {
    "name": "ipython",
    "version": 3
   },
   "file_extension": ".py",
   "mimetype": "text/x-python",
   "name": "python",
   "nbconvert_exporter": "python",
   "pygments_lexer": "ipython3",
   "version": "3.7.7"
  }
 },
 "nbformat": 4,
 "nbformat_minor": 5
}
